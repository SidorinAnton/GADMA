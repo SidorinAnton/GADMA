{
 "cells": [
  {
   "cell_type": "markdown",
   "metadata": {},
   "source": [
    "# GADMA with custom model (momi)\n",
    "\n",
    "GADMA could be run with a detailed specified demographic model. Model should be provided as a file with a function ``model_func`` that describes demographic history by engine itself. In case of ``momi`` engine it should take values of parameters and return ``momi``'s demographic model.\n",
    "\n",
    "In this example we will take data and custom demographic model and infer its parameters with usage of GADMA and ``momi`` engine."
   ]
  },
  {
   "cell_type": "markdown",
   "metadata": {},
   "source": [
    "## Data\n",
    "\n",
    "Assume two populations of modern human:\n",
    "\n",
    "* YRI - African population,\n",
    "* CEU - European population.\n",
    "\n",
    "In this case we take the AFS data from Gutenkunst et al. 2009. Data is presented in file `YRI_CEU.fs` in ``dadi``'s SFS format. Fortunately, ``momi`` engine is able to read any format of SFS data. However if ``dadi``'s file is given to ``momi`` it should be in full format: with labels in the first line and comtain 3 lines in total."
   ]
  },
  {
   "cell_type": "markdown",
   "metadata": {},
   "source": [
    "## Demographic model\n",
    "\n",
    "Demographic model is located in ``demographic_model.py`` and is written according to [``momi`` manual](https://momi2.readthedocs.io/en/latest/).\n",
    "\n",
    "It is important to note that units of parameters for ``momi`` engine are `physical` by default. Time for one generation should be equal to 1 and time should be in generations. If we want to mark that one parameter is in `genetic` units then we add `_gen` at the end of its name (e.g. `nu_2F_gen`).\n",
    "\n",
    "Time parameters should be used as usually in ``dadi`` as time of epochs. This means that past events should occur in sum of several time parameters (as time of ancestral population split happened at moment T+Tp)."
   ]
  },
  {
   "cell_type": "code",
   "execution_count": 1,
   "metadata": {},
   "outputs": [
    {
     "name": "stdout",
     "output_type": "stream",
     "text": [
      "import momi\n",
      "import numpy as np\n",
      "\n",
      "def model_func(params):\n",
      "    N_Anc, N_1F, r_2, nu_2F_gen, Tp, T = params\n",
      "\n",
      "    model = momi.DemographicModel(N_e=1e5)\n",
      "\n",
      "    model.add_leaf(\"YRI\", N=N_1F)\n",
      "    # we have nu_2F_gen is in genetic units so we translate it\n",
      "    model.add_leaf(\"CEU\", N=nu_2F_gen * N_Anc, g=r_2)\n",
      "    # Time of population split is T\n",
      "    model.move_lineages(\"CEU\", \"YRI\", t=T, N=N_1F)\n",
      "    # Time of ancestral size change is T + Tp\n",
      "    model.set_size(\"YRI\", N=N_Anc, g=0, t=T + Tp)\n",
      "\n",
      "    return model\n",
      "\n"
     ]
    }
   ],
   "source": [
    "%%bash\n",
    "cat demographic_model.py"
   ]
  },
  {
   "cell_type": "markdown",
   "metadata": {},
   "source": [
    "We could use some random parameters to plot this demographic model with ``momi``:"
   ]
  },
  {
   "cell_type": "code",
   "execution_count": 2,
   "metadata": {},
   "outputs": [
    {
     "data": {
      "image/png": "[encoded data removed]",
      "text/plain": [
       "<Figure size 432x576 with 2 Axes>"
      ]
     },
     "metadata": {
      "needs_background": "light"
     },
     "output_type": "display_data"
    }
   ],
   "source": [
    "from demographic_model import model_func\n",
    "import momi\n",
    "rand_pars = [7000, 13000, 0.01, 2, 1000, 500]\n",
    "model = model_func(rand_pars)\n",
    "fig = momi.DemographyPlot(\n",
    "    model, [\"YRI\", \"CEU\"],\n",
    "    figsize=(6,8)\n",
    ")"
   ]
  },
  {
   "cell_type": "markdown",
   "metadata": {},
   "source": [
    "## Inference with GADMA\n",
    "\n",
    "To run GADMA with custom model one should set parameters file:"
   ]
  },
  {
   "cell_type": "code",
   "execution_count": 3,
   "metadata": {},
   "outputs": [
    {
     "name": "stdout",
     "output_type": "stream",
     "text": [
      "# Set data first\n",
      "Input file: YRI_CEU.fs\n",
      "\n",
      "# Output folder. It should be empty.\n",
      "Output directory: gadma_result\n",
      "\n",
      "\n",
      "# Set engine for simulations. We use momi.\n",
      "Engine: momi\n",
      "\n",
      "# For engine momi mutation rate and sequence length are required\n",
      "Mutation rate: 2.35e-8\n",
      "Sequence length: 4.04e6\n",
      "\n",
      "# Now set our custom demographic model from file.\n",
      "# There should be a function model_func in the file with a model.\n",
      "Custom filename: demographic_model.py\n",
      "\n",
      "# for short example\n",
      "global_maxiter: 20\n",
      "\n",
      "# How many repeats to run and how many processes to use.\n",
      "Number of repeats: 2\n",
      "Number of processes: 2\n"
     ]
    }
   ],
   "source": [
    "%%bash\n",
    "cat params_file"
   ]
  },
  {
   "cell_type": "code",
   "execution_count": 4,
   "metadata": {},
   "outputs": [],
   "source": [
    "%%bash\n",
    "# As output directory should be empty we remove it if it exists\n",
    "rm -rf gadma_result"
   ]
  },
  {
   "cell_type": "markdown",
   "metadata": {},
   "source": [
    "Now we can run GADMA:"
   ]
  },
  {
   "cell_type": "code",
   "execution_count": 5,
   "metadata": {
    "scrolled": true
   },
   "outputs": [
    {
     "name": "stdout",
     "output_type": "stream",
     "text": [
      "Data reading\n",
      "Number of populations: 2\n",
      "Projections: [20, 20]\n",
      "Population labels: ('YRI', 'CEU')\n",
      "Outgroup: True\n",
      "\u001b[92m--Successful data reading--\u001b[0m\n",
      "\n",
      "\u001b[92m--Successful arguments parsing--\u001b[0m\n",
      "\n",
      "Parameters of launch are saved in output directory: /home/katenos/Workspace/popgen/temp/GADMA/examples/custom_model_momi/gadma_result/params_file\n",
      "All output is saved in output directory: /home/katenos/Workspace/popgen/temp/GADMA/examples/custom_model_momi/gadma_result/GADMA.log\n",
      "\n",
      "\u001b[94m--Start pipeline--\u001b[0m\n",
      "Run launch number 1\n",
      "Run launch number 2\n",
      "\n",
      "[000:01:00]\n",
      "All best by log-likelihood models\n",
      "Number\tlog-likelihood\tModel\n",
      "Run 2\t-71390.07\t(N_Anc=71174.729,\tN_1F=59543.75892,\tr_2=0.001,\tnu_2F_gen=3.98626,\tTp=33144.24987,\tT=5267.44531)\tc\t\n",
      "Run 1\t-74429.28\t(N_Anc=543.23112,\tN_1F=37311.12065,\tr_2=-1.87e-06,\tnu_2F_gen=1.91245,\tTp=120987.83849,\tT=506.62639)\tmmmm\t\n",
      "\u001b[93mRun 2 warning: failed to draw model due to the following exception: Model <class 'gadma.models.custom_demographic_model.CustomDemographicModel'> is not supported by demes engine.\n",
      "The supported models are: [<class 'gadma.models.demographic_model.EpochDemographicModel'>, <class 'gadma.models.structure_demographic_model.StructureDemographicModel'>].\u001b[0m.\n",
      "\n",
      "You can find the Python code of the best model in the output directory.\n",
      "\n",
      "\n",
      "[000:02:00]\n",
      "All best by log-likelihood models\n",
      "Number\tlog-likelihood\tModel\n",
      "Run 1\t-69828.53\t(N_Anc=109.366,\tN_1F=256070.18043,\tr_2=0.00091,\tnu_2F_gen=4.72887,\tTp=1402947.01398,\tT=159.10512)\t\n",
      "Run 2\t-70794.61\t(N_Anc=102726.06352,\tN_1F=59543.75892,\tr_2=0.001,\tnu_2F_gen=3.98626,\tTp=7929.57872,\tT=5272.71539)\t\n",
      "\u001b[93mRun 1 warning: failed to draw model due to the following exception: Model <class 'gadma.models.custom_demographic_model.CustomDemographicModel'> is not supported by demes engine.\n",
      "The supported models are: [<class 'gadma.models.demographic_model.EpochDemographicModel'>, <class 'gadma.models.structure_demographic_model.StructureDemographicModel'>].\u001b[0m.\n",
      "\n",
      "You can find the Python code of the best model in the output directory.\n",
      "\n",
      "Finish genetic algorithm number 1\n",
      "\n",
      "[000:03:00]\n",
      "All best by log-likelihood models\n",
      "Number\tlog-likelihood\tModel\n",
      "Run 1\t-69828.05\t(N_Anc=109.36454,\tN_1F=256330.26581,\tr_2=0.00089,\tnu_2F_gen=4.72881,\tTp=1402947.49956,\tT=159.10723)\tf\t\n",
      "Run 2\t-70794.61\t(N_Anc=102726.06352,\tN_1F=59543.75892,\tr_2=0.001,\tnu_2F_gen=3.98626,\tTp=7929.57872,\tT=5272.71539)\t\n",
      "\u001b[93mRun 1 warning: failed to draw model due to the following exception: Model <class 'gadma.models.custom_demographic_model.CustomDemographicModel'> is not supported by demes engine.\n",
      "The supported models are: [<class 'gadma.models.demographic_model.EpochDemographicModel'>, <class 'gadma.models.structure_demographic_model.StructureDemographicModel'>].\u001b[0m.\n",
      "\n",
      "You can find the Python code of the best model in the output directory.\n",
      "\n",
      "Finish genetic algorithm number 2\n",
      "\n",
      "[000:03:05]\n",
      "All best by log-likelihood models\n",
      "Number\tlog-likelihood\tModel\n",
      "Run 1\t-69828.05\t(N_Anc=109.36454,\tN_1F=256330.26581,\tr_2=0.00089,\tnu_2F_gen=4.72881,\tTp=1402947.49956,\tT=159.10723)\tf\t\n",
      "Run 2\t-70794.61\t(N_Anc=102726.06352,\tN_1F=59543.75892,\tr_2=0.001,\tnu_2F_gen=3.98626,\tTp=7929.57872,\tT=5272.71539)\tf\t\n",
      "\u001b[93mRun 1 warning: failed to draw model due to the following exception: Model <class 'gadma.models.custom_demographic_model.CustomDemographicModel'> is not supported by demes engine.\n",
      "The supported models are: [<class 'gadma.models.demographic_model.EpochDemographicModel'>, <class 'gadma.models.structure_demographic_model.StructureDemographicModel'>].\u001b[0m.\n",
      "\n",
      "You can find the Python code of the best model in the output directory.\n",
      "\n",
      "\n",
      "--Finish pipeline--\n",
      "\n",
      "\n",
      "You didn't specify theta at the beginning. If you want to change it and rescale parameters, please see the tutorial:\n",
      "https://gadma.readthedocs.io/en/latest/user_manual/theta.html\n",
      "\n",
      "Thank you for using GADMA!\n",
      "\n",
      "In case of any questions or problems, please contact: ekaterina.e.noskova@gmail.com\n",
      "\n"
     ]
    },
    {
     "name": "stderr",
     "output_type": "stream",
     "text": [
      "\u001b[93mUserWarning: Setting `Input file` is renamed in 2 version of GADMA to `Input data`. It is successfully read.\u001b[0m (/home/katenos/.local/lib/python3.6/site-packages/gadma/cli/settings_storage.py:902)\n",
      "\u001b[93mUserWarning: Momi engine does not support Linear size function. It is removed from possible dynamics\u001b[0m (/home/katenos/.local/lib/python3.6/site-packages/gadma/cli/settings_storage.py:1260)\n",
      "\u001b[93mUserWarning: Domain of DynamicVariable changed to ['Sud', 'Exp']\u001b[0m (/home/katenos/.local/lib/python3.6/site-packages/gadma/cli/settings_storage.py:617)\n",
      "\u001b[93mUserWarning: Momi engine need ancestral size as parameter. The option `Ancestral size as parameter` is set to `True`\u001b[0m (/home/katenos/.local/lib/python3.6/site-packages/gadma/cli/settings_storage.py:1265)\n",
      "\u001b[93mUserWarning: Momi engine does not support continous migrations. The option `No migrations` is set to `True`\u001b[0m (/home/katenos/.local/lib/python3.6/site-packages/gadma/cli/settings_storage.py:1271)\n",
      "\u001b[93mUserWarning: Setting no_migrations (True) will be ignored as custom model from file is chosen.\u001b[0m (/home/katenos/.local/lib/python3.6/site-packages/gadma/cli/arg_parser.py:293)\n",
      "\u001b[93mUserWarning: Setting split_fractions (True) will be ignored as custom model from file is chosen.\u001b[0m (/home/katenos/.local/lib/python3.6/site-packages/gadma/cli/arg_parser.py:293)\n"
     ]
    }
   ],
   "source": [
    "%%bash\n",
    "gadma -p params_file"
   ]
  },
  {
   "cell_type": "code",
   "execution_count": null,
   "metadata": {},
   "outputs": [],
   "source": []
  }
 ],
 "metadata": {
  "kernelspec": {
   "display_name": "Python 3",
   "language": "python",
   "name": "python3"
  },
  "language_info": {
   "codemirror_mode": {
    "name": "ipython",
    "version": 3
   },
   "file_extension": ".py",
   "mimetype": "text/x-python",
   "name": "python",
   "nbconvert_exporter": "python",
   "pygments_lexer": "ipython3",
   "version": "3.6.9"
  }
 },
 "nbformat": 4,
 "nbformat_minor": 4
}
